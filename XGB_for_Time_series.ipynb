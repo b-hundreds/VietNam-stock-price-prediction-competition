{
  "nbformat": 4,
  "nbformat_minor": 0,
  "metadata": {
    "colab": {
      "name": "XGB for Time series.ipynb",
      "provenance": []
    },
    "kernelspec": {
      "name": "python3",
      "display_name": "Python 3"
    },
    "language_info": {
      "name": "python"
    }
  },
  "cells": [
    {
      "cell_type": "code",
      "execution_count": 1,
      "metadata": {
        "colab": {
          "base_uri": "https://localhost:8080/",
          "height": 346
        },
        "id": "N5mdpMT2PC0Z",
        "outputId": "50be7098-70c3-44f6-df27-d9908ee149b8"
      },
      "outputs": [
        {
          "output_type": "stream",
          "name": "stderr",
          "text": [
            "/usr/local/lib/python3.7/dist-packages/ipykernel_launcher.py:22: FutureWarning: Series.dt.weekofyear and Series.dt.week have been deprecated.  Please use Series.dt.isocalendar().week instead.\n",
            "/usr/local/lib/python3.7/dist-packages/ipykernel_launcher.py:82: FutureWarning: Series.dt.weekofyear and Series.dt.week have been deprecated.  Please use Series.dt.isocalendar().week instead.\n"
          ]
        },
        {
          "output_type": "execute_result",
          "data": {
            "text/plain": [
              "<matplotlib.axes._subplots.AxesSubplot at 0x7fc5093eb210>"
            ]
          },
          "metadata": {},
          "execution_count": 1
        },
        {
          "output_type": "display_data",
          "data": {
            "image/png": "[encoded data removed]",
            "text/plain": [
              "<Figure size 432x288 with 1 Axes>"
            ]
          },
          "metadata": {
            "needs_background": "light"
          }
        }
      ],
      "source": [
        "# Import liblary\n",
        "\n",
        "import numpy as np\n",
        "import pandas as pd\n",
        "import xgboost as xgb\n",
        "import matplotlib.pyplot as plt\n",
        "from xgboost import plot_importance, plot_tree\n",
        "from sklearn.model_selection import train_test_split, GridSearchCV\n",
        "\n",
        "\n",
        "# Read file price_train.csv and price_test.csv\n",
        "\n",
        "df_train = pd.read_csv('/content/price_train.csv')\n",
        "df_test = pd.read_csv('/content/price_test.csv')\n",
        "\n",
        "\n",
        "# Add new feature from date feature\n",
        "\n",
        "df_train = df_train.drop(columns=['open', 'high', 'low', 'volume'])\n",
        "df_train['date'] = pd.to_datetime(df_train['date'])\n",
        "df_train['dayofweek'] = df_train['date'].dt.dayofweek\n",
        "df_train['weekofyear'] = df_train['date'].dt.weekofyear\n",
        "df_train['dayofyear'] = df_train['date'].dt.dayofyear\n",
        "df_train['month'] = df_train['date'].dt.month\n",
        "df_train['dayofyear'] = df_train['date'].dt.dayofyear\n",
        "df_train['dayofmonth'] = df_train['date'].dt.day\n",
        "\n",
        "\n",
        "# Fill NaN \n",
        "\n",
        "df_train = df_train.fillna(79.35)\n",
        "\n",
        "\n",
        "# Add one hot feature from symbol feature\n",
        "one_hot = pd.get_dummies(df_train.symbol)\n",
        "df_train = pd.concat([df_train, one_hot], axis=1)\n",
        "df_train = df_train.drop(columns='symbol')\n",
        "\n",
        "# Add lag feature from close feature\n",
        "\n",
        "df_train['lag1'] = df_train['close'].shift(1)\n",
        "df_train['lag2'] = df_train['close'].shift(2)\n",
        "df_train['lag3'] = df_train['close'].shift(3)\n",
        "df_train['lag4'] = df_train['close'].shift(4)\n",
        "df_train['lag5'] = df_train['close'].shift(5)\n",
        "df_train['lag6'] = df_train['close'].shift(6)\n",
        "df_train['lag7'] = df_train['close'].shift(7)\n",
        "df_train['lag8'] = df_train['close'].shift(8)\n",
        "df_train['lag9'] = df_train['close'].shift(9)\n",
        "df_train['lag10'] = df_train['close'].shift(10)\n",
        "\n",
        "# Drop row have NaN after add lag feature\n",
        "df_train = df_train.drop(list(df_train[df_train['date'] == '2021-01-04'].index))\n",
        "df_train = df_train.drop(list(df_train[df_train['date'] == '2021-01-05'].index))\n",
        "df_train = df_train.drop(list(df_train[df_train['date'] == '2021-01-06'].index))\n",
        "df_train = df_train.drop(list(df_train[df_train['date'] == '2021-01-07'].index))\n",
        "df_train = df_train.drop(list(df_train[df_train['date'] == '2021-01-08'].index))\n",
        "df_train = df_train.drop(list(df_train[df_train['date'] == '2021-01-09'].index))\n",
        "df_train = df_train.drop(list(df_train[df_train['date'] == '2021-01-10'].index))\n",
        "df_train = df_train.drop(list(df_train[df_train['date'] == '2021-01-11'].index))\n",
        "df_train = df_train.drop(list(df_train[df_train['date'] == '2021-01-12'].index))\n",
        "df_train = df_train.drop(list(df_train[df_train['date'] == '2021-01-13'].index))\n",
        "\n",
        "\n",
        "# Create lag_init data to predict (10 last day row)\n",
        "\n",
        "lag_init = df_train[df_train['date'] == '2021-10-29'].iloc[:,-10:].to_numpy()\n",
        "\n",
        "# Drop date feature\n",
        "\n",
        "df_train = df_train.drop(columns='date')\n",
        "df_train = df_train.reset_index()\n",
        "df_train = df_train.drop(columns='index')\n",
        "\n",
        "\n",
        "# Drop close feature in test data frame\n",
        "\n",
        "df_test = df_test.drop(columns='close')\n",
        "\n",
        "# Add new feature from date feature\n",
        "\n",
        "df_test['date'] = pd.to_datetime(df_test['date'])\n",
        "df_test['dayofweek'] = df_test['date'].dt.dayofweek\n",
        "df_test['weekofyear'] = df_test['date'].dt.weekofyear\n",
        "df_test['dayofyear'] = df_test['date'].dt.dayofyear\n",
        "df_test['month'] = df_test['date'].dt.month\n",
        "df_test['dayofyear'] = df_test['date'].dt.dayofyear\n",
        "df_test['dayofmonth'] = df_test['date'].dt.day\n",
        "\n",
        "\n",
        "# Drop date feature\n",
        "\n",
        "df_test = df_test.drop(columns='date')\n",
        "\n",
        "\n",
        "# Add one hot feature from symbol feature\n",
        "\n",
        "one_hot1 = pd.get_dummies(df_test.symbol)\n",
        "df_test = pd.concat([df_test, one_hot1], axis=1)\n",
        "\n",
        "\n",
        "# Drop symbol feature\n",
        "\n",
        "df_test = df_test.drop(columns='symbol')\n",
        "\n",
        "\n",
        "# Create a copy of test data frame\n",
        "\n",
        "df_test1 = df_test.copy()\n",
        "\n",
        "\n",
        "# Split data frame to train, valid data\n",
        "\n",
        "feature, label = df_train.iloc[:, 1:], df_train.iloc[:, 0]\n",
        "X_train, X_valid, y_train, y_valid = train_test_split(feature, label, test_size =0.3, shuffle=False)\n",
        "\n",
        "\n",
        "# Train data with xgboost, plot feature important\n",
        "\n",
        "reg = xgb.XGBRegressor(max_depth=3, n_estimators=600, objective='reg:squarederror')\n",
        "#reg.fit(X_train, y_train, eval_set=[(X_train, y_train), (X_valid, y_valid)], verbose=0)\n",
        "reg.fit(feature, label, eval_set=[(X_train, y_train), (X_valid, y_valid)], verbose=0)\n",
        "plot_importance(reg)\n"
      ]
    },
    {
      "cell_type": "code",
      "source": [
        "# Predict close feature\n",
        "list_close = []\n",
        "for symbol in range(30): # Predict close feature of symbol, one by one \n",
        "  prev_vals = lag_init[symbol, :]\n",
        "  # forecast will be used to add data after predict\n",
        "  forecast = prev_vals.copy()\n",
        "  for i in range(21):\n",
        "    X = df_test1.iloc[i:i+1].copy()\n",
        "    # Add 10 lag feature to predict data\n",
        "    for n in range(10):\n",
        "      X.loc[:, 'lag' +str(n+1)] = forecast[n]\n",
        "    # Predict\n",
        "    est_scaled = reg.predict(X)\n",
        "    # Add data after predict in next single day\n",
        "    forecast = np.concatenate([np.array(est_scaled).reshape(1,), forecast])\n",
        "  # Add predict data next 21 days of a symbol\n",
        "  list_close.append(forecast[-21:])\n",
        "\n",
        "ab = np.array([list_close]).reshape(630,)\n",
        "a1 = pd.DataFrame(ab)\n"
      ],
      "metadata": {
        "id": "m8pwIdSmaP2B"
      },
      "execution_count": 2,
      "outputs": []
    },
    {
      "cell_type": "code",
      "source": [
        "# Convert result data to file csv\n",
        "\n",
        "submission = pd.read_csv('/content/price_test.csv')\n",
        "submission.drop(columns='close')\n",
        "submission['close'] = a1\n",
        "submission['Id'] = submission[['date', 'symbol']].apply(lambda x: str(x[0])+':'+x[1], axis=1)\n",
        "submission['Predicted'] = submission['close']\n",
        "submission[['Id', 'Predicted']].to_csv('submission.csv', index=False)\n"
      ],
      "metadata": {
        "id": "Tf474r8FK_Zu"
      },
      "execution_count": 3,
      "outputs": []
    }
  ]
}